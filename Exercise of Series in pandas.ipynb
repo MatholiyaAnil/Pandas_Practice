{
 "cells": [
  {
   "cell_type": "markdown",
   "id": "ee967511",
   "metadata": {},
   "source": [
    "# Q1"
   ]
  },
  {
   "cell_type": "markdown",
   "id": "411a62ab",
   "metadata": {},
   "source": [
    "Write a Pandas program to create and display a one-dimensional array-like object containing an array of data using Pandas module."
   ]
  },
  {
   "cell_type": "code",
   "execution_count": 1,
   "id": "48c9cb2e",
   "metadata": {},
   "outputs": [],
   "source": [
    "import pandas as pd\n",
    "\n",
    "#using \"Series\" method\n",
    "asd = [1, 2, 3, 4, 5]\n",
    "ds = pd.Series(asd)\n"
   ]
  },
  {
   "cell_type": "code",
   "execution_count": 2,
   "id": "867a28d5",
   "metadata": {},
   "outputs": [
    {
     "name": "stdout",
     "output_type": "stream",
     "text": [
      "<class 'pandas.core.series.Series'>\n"
     ]
    }
   ],
   "source": [
    "ds\n",
    "print(type(ds))"
   ]
  },
  {
   "cell_type": "markdown",
   "id": "0259bfd1",
   "metadata": {},
   "source": [
    "# Q2"
   ]
  },
  {
   "cell_type": "markdown",
   "id": "db4e70b1",
   "metadata": {},
   "source": [
    "Write a Pandas program to convert a Panda module Series to Python list and it's type"
   ]
  },
  {
   "cell_type": "code",
   "execution_count": 3,
   "id": "63a495eb",
   "metadata": {},
   "outputs": [
    {
     "data": {
      "text/plain": [
       "0     2\n",
       "1     4\n",
       "2     6\n",
       "3     8\n",
       "4    10\n",
       "dtype: int64"
      ]
     },
     "execution_count": 3,
     "metadata": {},
     "output_type": "execute_result"
    }
   ],
   "source": [
    "ds = pd.Series([2, 4, 6, 8, 10])\n",
    "\n",
    "ds"
   ]
  },
  {
   "cell_type": "code",
   "execution_count": 4,
   "id": "95a102d1",
   "metadata": {},
   "outputs": [
    {
     "data": {
      "text/plain": [
       "[2, 4, 6, 8, 10]"
      ]
     },
     "execution_count": 4,
     "metadata": {},
     "output_type": "execute_result"
    }
   ],
   "source": [
    "#converting panda series to List tpe \n",
    "ds.tolist()"
   ]
  },
  {
   "cell_type": "markdown",
   "id": "fd7946c3",
   "metadata": {},
   "source": [
    "# Q3"
   ]
  },
  {
   "cell_type": "markdown",
   "id": "eeac2daa",
   "metadata": {},
   "source": [
    "Write a Pandas program to add, subtract, multiple and divide two Pandas Series.\n",
    "Sample Series: [2, 4, 6, 8, 10], [1, 3, 5, 7, 9]"
   ]
  },
  {
   "cell_type": "code",
   "execution_count": 5,
   "id": "c1ef35d7",
   "metadata": {},
   "outputs": [],
   "source": [
    "ds1 = pd.Series([2, 4, 6, 8, 10])\n",
    "ds2 = pd.Series([1, 3, 5, 7, 9])"
   ]
  },
  {
   "cell_type": "code",
   "execution_count": 6,
   "id": "fc24d246",
   "metadata": {},
   "outputs": [
    {
     "data": {
      "text/plain": [
       "0     3\n",
       "1     7\n",
       "2    11\n",
       "3    15\n",
       "4    19\n",
       "dtype: int64"
      ]
     },
     "execution_count": 6,
     "metadata": {},
     "output_type": "execute_result"
    }
   ],
   "source": [
    "#add two panda Series\n",
    "ds = ds1 + ds2\n",
    "ds"
   ]
  },
  {
   "cell_type": "code",
   "execution_count": 7,
   "id": "7a1d7e47",
   "metadata": {},
   "outputs": [
    {
     "data": {
      "text/plain": [
       "0    1\n",
       "1    1\n",
       "2    1\n",
       "3    1\n",
       "4    1\n",
       "dtype: int64"
      ]
     },
     "execution_count": 7,
     "metadata": {},
     "output_type": "execute_result"
    }
   ],
   "source": [
    "#subtract two panda Series\n",
    "ds = ds1- ds2\n",
    "ds"
   ]
  },
  {
   "cell_type": "code",
   "execution_count": 8,
   "id": "dca28ac7",
   "metadata": {},
   "outputs": [
    {
     "data": {
      "text/plain": [
       "0     2\n",
       "1    12\n",
       "2    30\n",
       "3    56\n",
       "4    90\n",
       "dtype: int64"
      ]
     },
     "execution_count": 8,
     "metadata": {},
     "output_type": "execute_result"
    }
   ],
   "source": [
    "#multiple two panda Series\n",
    "ds = ds1 * ds2\n",
    "ds"
   ]
  },
  {
   "cell_type": "code",
   "execution_count": 9,
   "id": "c3435c57",
   "metadata": {},
   "outputs": [
    {
     "data": {
      "text/plain": [
       "0    2.000000\n",
       "1    1.333333\n",
       "2    1.200000\n",
       "3    1.142857\n",
       "4    1.111111\n",
       "dtype: float64"
      ]
     },
     "execution_count": 9,
     "metadata": {},
     "output_type": "execute_result"
    }
   ],
   "source": [
    "#Divide two panda Series\n",
    "ds = ds1 / ds2\n",
    "ds"
   ]
  },
  {
   "cell_type": "markdown",
   "id": "21e81a1c",
   "metadata": {},
   "source": [
    "# Q4"
   ]
  },
  {
   "cell_type": "markdown",
   "id": "ebc9c437",
   "metadata": {},
   "source": [
    "Write a Pandas program to compare the elements of the two Pandas Series.\n",
    "Sample Series: [2, 4, 6, 8, 10], [1, 3, 5, 7, 10]"
   ]
  },
  {
   "cell_type": "code",
   "execution_count": 10,
   "id": "ffc7acd4",
   "metadata": {},
   "outputs": [],
   "source": [
    "ds1 = pd.Series([2, 4, 6, 8, 10])\n",
    "ds2 = pd.Series([1, 3, 5, 7, 10])"
   ]
  },
  {
   "cell_type": "code",
   "execution_count": 11,
   "id": "23d28f72",
   "metadata": {},
   "outputs": [
    {
     "data": {
      "text/plain": [
       "0    False\n",
       "1    False\n",
       "2    False\n",
       "3    False\n",
       "4     True\n",
       "dtype: bool"
      ]
     },
     "execution_count": 11,
     "metadata": {},
     "output_type": "execute_result"
    }
   ],
   "source": [
    "# Equality comparison\n",
    "ds = ds1 == ds2\n",
    "ds"
   ]
  },
  {
   "cell_type": "code",
   "execution_count": 12,
   "id": "df793554",
   "metadata": {},
   "outputs": [
    {
     "data": {
      "text/plain": [
       "0     True\n",
       "1     True\n",
       "2     True\n",
       "3     True\n",
       "4    False\n",
       "dtype: bool"
      ]
     },
     "execution_count": 12,
     "metadata": {},
     "output_type": "execute_result"
    }
   ],
   "source": [
    "# Greater than comparison\n",
    "ds = ds1 > ds2\n",
    "ds"
   ]
  },
  {
   "cell_type": "code",
   "execution_count": 13,
   "id": "ecdf09b0",
   "metadata": {},
   "outputs": [
    {
     "data": {
      "text/plain": [
       "0    False\n",
       "1    False\n",
       "2    False\n",
       "3    False\n",
       "4    False\n",
       "dtype: bool"
      ]
     },
     "execution_count": 13,
     "metadata": {},
     "output_type": "execute_result"
    }
   ],
   "source": [
    "# Less than comparison\n",
    "ds = ds1 < ds2\n",
    "ds"
   ]
  },
  {
   "cell_type": "markdown",
   "id": "a8914b71",
   "metadata": {},
   "source": [
    "# Q5"
   ]
  },
  {
   "cell_type": "markdown",
   "id": "1955af86",
   "metadata": {},
   "source": [
    "Write a Pandas program to convert a dictionary to a Pandas series.\n",
    "Sample Series: \n",
    "Original dictionary:\n",
    "{'a': 100, 'b': 200, 'c': 300, 'd': 400, 'e': 800}\n",
    "\n",
    "Converted series:\n",
    "a    100\n",
    "b    200\n",
    "c    300\n",
    "d    400\n",
    "e    800\n",
    "dtype: int64 "
   ]
  },
  {
   "cell_type": "code",
   "execution_count": 14,
   "id": "e4d7533f",
   "metadata": {},
   "outputs": [
    {
     "data": {
      "text/plain": [
       "a    100\n",
       "b    200\n",
       "c    300\n",
       "d    400\n",
       "e    800\n",
       "dtype: int64"
      ]
     },
     "execution_count": 14,
     "metadata": {},
     "output_type": "execute_result"
    }
   ],
   "source": [
    "Original_dictionary = {'a': 100, 'b': 200, 'c': 300, 'd': 400, 'e': 800}\n",
    "# Converting Python Dict to Panda Series method\n",
    "pd.Series(Original_dictionary)"
   ]
  },
  {
   "cell_type": "code",
   "execution_count": 15,
   "id": "f719e84a",
   "metadata": {},
   "outputs": [
    {
     "data": {
      "text/plain": [
       "a    [100, 200]\n",
       "b    [200, 400]\n",
       "c    [300, 600]\n",
       "d    [400, 900]\n",
       "e    [800, 600]\n",
       "dtype: object"
      ]
     },
     "execution_count": 15,
     "metadata": {},
     "output_type": "execute_result"
    }
   ],
   "source": [
    "Original_dictionary = {'a': [100,200], 'b': [200,400], 'c': [300,600], 'd': [400,900], 'e': [800,600]}\n",
    "# Converting Python Dict to Panda Series method\n",
    "pd.Series(Original_dictionary)"
   ]
  },
  {
   "cell_type": "markdown",
   "id": "585281da",
   "metadata": {},
   "source": [
    "# Q6"
   ]
  },
  {
   "cell_type": "markdown",
   "id": "58fd7e30",
   "metadata": {},
   "source": [
    "Write a Pandas program to convert a NumPy array to a Pandas series.\n",
    "Sample Series: \n",
    "  NumPy array:\n",
    "[10 20 30 40 50]\n",
    "Converted Pandas series:\n",
    "0    10\n",
    "1    20\n",
    "2    30\n",
    "3    40\n",
    "4    50"
   ]
  },
  {
   "cell_type": "code",
   "execution_count": 16,
   "id": "61a42981",
   "metadata": {},
   "outputs": [
    {
     "data": {
      "text/plain": [
       "0    10\n",
       "1    20\n",
       "2    30\n",
       "3    40\n",
       "4    50\n",
       "dtype: int32"
      ]
     },
     "execution_count": 16,
     "metadata": {},
     "output_type": "execute_result"
    }
   ],
   "source": [
    "import numpy as np\n",
    "arr = np.array([10, 20, 30, 40, 50])\n",
    "#Converting Numpy Array to Pandas Series.\n",
    "series = pd.Series(arr)\n",
    "series"
   ]
  },
  {
   "cell_type": "markdown",
   "id": "787b18f3",
   "metadata": {},
   "source": [
    "# Q7"
   ]
  },
  {
   "cell_type": "markdown",
   "id": "f3990816",
   "metadata": {},
   "source": [
    "Write a Pandas program to change the data type of given a column or a Series.\n",
    "\n",
    "    Sample Series: \n",
    "    Original Data Series:\n",
    "    0       100\n",
    "    1       200\n",
    "    2    python\n",
    "    3    300.12\n",
    "    4       400\n",
    "    dtype: object\n",
    "\n",
    "    Change the said data type to numeric:\n",
    "    0    100.00\n",
    "    1    200.00\n",
    "    2       NaN\n",
    "    3    300.12\n",
    "    4    400.00\n",
    "    dtype: float64"
   ]
  },
  {
   "cell_type": "code",
   "execution_count": 17,
   "id": "a8f3f3ab",
   "metadata": {},
   "outputs": [
    {
     "data": {
      "text/plain": [
       "0    100.00\n",
       "1    200.00\n",
       "2       NaN\n",
       "3    300.12\n",
       "4    400.00\n",
       "dtype: float64"
      ]
     },
     "execution_count": 17,
     "metadata": {},
     "output_type": "execute_result"
    }
   ],
   "source": [
    "# Create the original Series\n",
    "data_series = pd.Series([100, 200, 'python', 300.12, 400])\n",
    "\n",
    "# Change the data type to numeric\n",
    "data_series_numeric = pd.to_numeric(data_series, errors='coerce')\n",
    "\n",
    "data_series_numeric"
   ]
  },
  {
   "cell_type": "markdown",
   "id": "5501026c",
   "metadata": {},
   "source": [
    "# Q8"
   ]
  },
  {
   "cell_type": "markdown",
   "id": "c6eaebde",
   "metadata": {},
   "source": [
    "Write a Pandas program to convert the first column of a DataFrame as a Series.\n",
    "\n",
    "    Sample Output:  \n",
    "    Original DataFrame\n",
    "       col1  col2  col3\n",
    "    0     1     4     7\n",
    "    1     2     5     5\n",
    "    2     3     6     8\n",
    "    3     4     9    12\n",
    "    4     7     5     1\n",
    "    5    11     0    11\n",
    "\n",
    "    1st column as a Series:\n",
    "    0     1\n",
    "    1     2\n",
    "    2     3\n",
    "    3     4\n",
    "    4     7\n",
    "    5    11\n",
    "    Name: col1, dtype: int64\n",
    "    <class 'pandas.core.series.Series'>"
   ]
  },
  {
   "cell_type": "code",
   "execution_count": 18,
   "id": "36f16254",
   "metadata": {},
   "outputs": [
    {
     "data": {
      "text/html": [
       "<div>\n",
       "<style scoped>\n",
       "    .dataframe tbody tr th:only-of-type {\n",
       "        vertical-align: middle;\n",
       "    }\n",
       "\n",
       "    .dataframe tbody tr th {\n",
       "        vertical-align: top;\n",
       "    }\n",
       "\n",
       "    .dataframe thead th {\n",
       "        text-align: right;\n",
       "    }\n",
       "</style>\n",
       "<table border=\"1\" class=\"dataframe\">\n",
       "  <thead>\n",
       "    <tr style=\"text-align: right;\">\n",
       "      <th></th>\n",
       "      <th>col1</th>\n",
       "      <th>col2</th>\n",
       "      <th>col3</th>\n",
       "    </tr>\n",
       "  </thead>\n",
       "  <tbody>\n",
       "    <tr>\n",
       "      <th>0</th>\n",
       "      <td>1</td>\n",
       "      <td>4</td>\n",
       "      <td>7</td>\n",
       "    </tr>\n",
       "    <tr>\n",
       "      <th>1</th>\n",
       "      <td>2</td>\n",
       "      <td>5</td>\n",
       "      <td>5</td>\n",
       "    </tr>\n",
       "    <tr>\n",
       "      <th>2</th>\n",
       "      <td>3</td>\n",
       "      <td>6</td>\n",
       "      <td>8</td>\n",
       "    </tr>\n",
       "    <tr>\n",
       "      <th>3</th>\n",
       "      <td>4</td>\n",
       "      <td>9</td>\n",
       "      <td>12</td>\n",
       "    </tr>\n",
       "    <tr>\n",
       "      <th>4</th>\n",
       "      <td>7</td>\n",
       "      <td>5</td>\n",
       "      <td>1</td>\n",
       "    </tr>\n",
       "    <tr>\n",
       "      <th>5</th>\n",
       "      <td>11</td>\n",
       "      <td>0</td>\n",
       "      <td>11</td>\n",
       "    </tr>\n",
       "  </tbody>\n",
       "</table>\n",
       "</div>"
      ],
      "text/plain": [
       "   col1  col2  col3\n",
       "0     1     4     7\n",
       "1     2     5     5\n",
       "2     3     6     8\n",
       "3     4     9    12\n",
       "4     7     5     1\n",
       "5    11     0    11"
      ]
     },
     "execution_count": 18,
     "metadata": {},
     "output_type": "execute_result"
    }
   ],
   "source": [
    "# Create the original DataFrame\n",
    "data = {'col1': [1,2,3,4,7,11],\n",
    "        'col2': [4,5,6,9,5,0],\n",
    "        'col3': [7,5,8,12,1,11]}\n",
    "#Convert to pandas Dataframe\n",
    "df = pd.DataFrame(data)\n",
    "df"
   ]
  },
  {
   "cell_type": "code",
   "execution_count": 19,
   "id": "3b005553",
   "metadata": {},
   "outputs": [
    {
     "data": {
      "text/plain": [
       "0     1\n",
       "1     2\n",
       "2     3\n",
       "3     4\n",
       "4     7\n",
       "5    11\n",
       "Name: col1, dtype: int64"
      ]
     },
     "execution_count": 19,
     "metadata": {},
     "output_type": "execute_result"
    }
   ],
   "source": [
    "df['col1']"
   ]
  },
  {
   "cell_type": "markdown",
   "id": "ea5f97c3",
   "metadata": {},
   "source": [
    "# Q9"
   ]
  },
  {
   "cell_type": "markdown",
   "id": "b02a4957",
   "metadata": {},
   "source": [
    "Write a Pandas program to convert a given Series to an array.\n",
    "\n",
    "    Sample Output: \n",
    "    Original Data Series:\n",
    "    0       100\n",
    "    1       200\n",
    "    2    python\n",
    "    3    300.12\n",
    "    4       400\n",
    "    dtype: object\n",
    "    Series to an array\n",
    "    ['100' '200' 'python' '300.12' '400']\n",
    "    <class 'numpy.ndarray'>"
   ]
  },
  {
   "cell_type": "code",
   "execution_count": 20,
   "id": "03581d34",
   "metadata": {},
   "outputs": [],
   "source": [
    "# Create a sample Series\n",
    "od_series = pd.Series([100,200,'python',300.12,400]) "
   ]
  },
  {
   "cell_type": "code",
   "execution_count": 21,
   "id": "25a7148d",
   "metadata": {},
   "outputs": [
    {
     "data": {
      "text/plain": [
       "pandas.core.series.Series"
      ]
     },
     "execution_count": 21,
     "metadata": {},
     "output_type": "execute_result"
    }
   ],
   "source": [
    "#Checking type and data of created Series\n",
    "od_series\n",
    "type(od_series)"
   ]
  },
  {
   "cell_type": "code",
   "execution_count": 22,
   "id": "c31c5155",
   "metadata": {},
   "outputs": [
    {
     "name": "stdout",
     "output_type": "stream",
     "text": [
      "<class 'numpy.ndarray'>\n",
      "[100 200 'python' 300.12 400]\n"
     ]
    }
   ],
   "source": [
    "# Convert the Series to an array\n",
    "array = od_series.values\n",
    "print (type(array))\n",
    "print (array)"
   ]
  },
  {
   "cell_type": "markdown",
   "id": "6edc5c69",
   "metadata": {},
   "source": [
    "# Q10"
   ]
  },
  {
   "cell_type": "markdown",
   "id": "366e8ca6",
   "metadata": {},
   "source": [
    "Write a Pandas program to convert Series of lists to one Series.\n",
    "\n",
    "    Sample Output: \n",
    "    Original Series of list\n",
    "    0    [Red, Green, White]\n",
    "    1           [Red, Black]\n",
    "    2               [Yellow]\n",
    "    dtype: object\n",
    "    One Series\n",
    "    0       Red\n",
    "    1     Green\n",
    "    2     White\n",
    "    3       Red\n",
    "    4     Black\n",
    "    5    Yellow\n",
    "    dtype: object"
   ]
  },
  {
   "cell_type": "code",
   "execution_count": 23,
   "id": "bc03ccd1",
   "metadata": {},
   "outputs": [
    {
     "data": {
      "text/plain": [
       "0       Red\n",
       "0     Green\n",
       "0     White\n",
       "1       Red\n",
       "1     Black\n",
       "2    Yellow\n",
       "dtype: object"
      ]
     },
     "execution_count": 23,
     "metadata": {},
     "output_type": "execute_result"
    }
   ],
   "source": [
    "#Creating Python pandas series\n",
    "series = pd.Series ([['Red', 'Green', 'White'],['Red', 'Black'],['Yellow']])\n",
    "# Convert the Series of lists to a single Series\n",
    "one_series = series.explode()#.reset_index(drop=True)\n",
    "one_series"
   ]
  },
  {
   "cell_type": "code",
   "execution_count": 24,
   "id": "02e5fa78",
   "metadata": {},
   "outputs": [
    {
     "data": {
      "text/plain": [
       "0       Red\n",
       "1     Green\n",
       "2     White\n",
       "3       Red\n",
       "4     Black\n",
       "5    Yellow\n",
       "dtype: object"
      ]
     },
     "execution_count": 24,
     "metadata": {},
     "output_type": "execute_result"
    }
   ],
   "source": [
    "#Resetting index to get result as per expetation.\n",
    "one_series.reset_index(drop=True)"
   ]
  },
  {
   "cell_type": "markdown",
   "id": "203371ea",
   "metadata": {},
   "source": [
    "# Q11"
   ]
  },
  {
   "cell_type": "markdown",
   "id": "854a6625",
   "metadata": {},
   "source": [
    "Write a Pandas program to sort a given Series.\n",
    "\n",
    "    Sample Output:\n",
    "    Original Data Series:\n",
    "    0       100\n",
    "    1       200\n",
    "    2    python\n",
    "    3    300.12\n",
    "    4       400\n",
    "    dtype: object\n",
    "    0       100\n",
    "    1       200\n",
    "    3    300.12\n",
    "    4       400\n",
    "    2    python\n",
    "    dtype: object"
   ]
  },
  {
   "cell_type": "code",
   "execution_count": 25,
   "id": "6a660acd",
   "metadata": {},
   "outputs": [
    {
     "name": "stdout",
     "output_type": "stream",
     "text": [
      "0       100\n",
      "1       200\n",
      "2    python\n",
      "3    300.12\n",
      "4       400\n",
      "dtype: object\n",
      "0       100\n",
      "1       200\n",
      "3    300.12\n",
      "4       400\n",
      "2    python\n",
      "dtype: object\n"
     ]
    }
   ],
   "source": [
    "series = pd.Series(['100', '200', 'python', '300.12', '400'])\n",
    "print(series)\n",
    "#using .sort_value()method to sort values.\n",
    "new_series = series.sort_values()\n",
    "print (new_series)"
   ]
  },
  {
   "cell_type": "markdown",
   "id": "f09661e8",
   "metadata": {},
   "source": [
    "# Q12"
   ]
  },
  {
   "cell_type": "markdown",
   "id": "8cc8999b",
   "metadata": {},
   "source": [
    "Write a Pandas program to create a subset of a given series based on value and condition.\n",
    "\n",
    "    Sample Output:\n",
    "    Original Data Series:\n",
    "    0      0\n",
    "    1      1\n",
    "    2      2\n",
    "\n",
    "    ....\n",
    "\n",
    "    9      9\n",
    "    10    10\n",
    "    dtype: int64\n",
    "\n",
    "    Subset of the above Data Series:\n",
    "    0    0\n",
    "    1    1\n",
    "    2    2\n",
    "    3    3\n",
    "    4    4\n",
    "    5    5\n",
    "    dtype: int64"
   ]
  },
  {
   "cell_type": "code",
   "execution_count": 26,
   "id": "61bf6644",
   "metadata": {},
   "outputs": [
    {
     "name": "stdout",
     "output_type": "stream",
     "text": [
      "Original Data Series:\n",
      "0      0\n",
      "1      1\n",
      "2      2\n",
      "3      3\n",
      "4      4\n",
      "5      5\n",
      "6      6\n",
      "7      7\n",
      "8      8\n",
      "9      9\n",
      "10    10\n",
      "dtype: int64\n",
      "Subset Data Series:\n",
      "0    0\n",
      "1    1\n",
      "2    2\n",
      "3    3\n",
      "4    4\n",
      "dtype: int64\n"
     ]
    }
   ],
   "source": [
    "import pandas as pd\n",
    "\n",
    "# Create the original Series\n",
    "original_series = pd.Series(range(11))\n",
    "\n",
    "print(\"Original Data Series:\")\n",
    "print(original_series)\n",
    "\n",
    "# Create a subset based on a condition\n",
    "subset = original_series[original_series < 5]\n",
    "\n",
    "print(\"Subset Data Series:\")\n",
    "print(subset)\n"
   ]
  },
  {
   "cell_type": "markdown",
   "id": "6ff11ddc",
   "metadata": {},
   "source": [
    "# Q13"
   ]
  },
  {
   "cell_type": "markdown",
   "id": "f66528b5",
   "metadata": {},
   "source": [
    "Write a Pandas program to change the order of index of a given series.\n",
    "\n",
    "    Sample Output:\n",
    "    Original Data Series:\n",
    "    A    1\n",
    "    B    2\n",
    "    C    3\n",
    "    D    4\n",
    "    E    5\n",
    "    dtype: int64\n",
    "    Data Series after changing the order of index:\n",
    "    B    2\n",
    "    A    1\n",
    "    C    3\n",
    "    D    4\n",
    "    E    5\n",
    "    dtype: int64"
   ]
  },
  {
   "cell_type": "code",
   "execution_count": 27,
   "id": "c22f8ed5",
   "metadata": {},
   "outputs": [
    {
     "name": "stdout",
     "output_type": "stream",
     "text": [
      "A    1\n",
      "B    2\n",
      "C    3\n",
      "D    4\n",
      "E    5\n",
      "dtype: int64\n",
      "B    2\n",
      "A    1\n",
      "C    3\n",
      "D    4\n",
      "E    5\n",
      "dtype: int64\n"
     ]
    }
   ],
   "source": [
    "#Creating data series for requirment\n",
    "series = pd.Series(data = [1,2,3,4,5], index = ['A', 'B', 'C','D','E'])\n",
    "print(series)\n",
    "\n",
    "#Changing Index with reindex method\n",
    "series = series.reindex(index = ['B','A','C','D','E'])\n",
    "print(series)\n"
   ]
  },
  {
   "cell_type": "markdown",
   "id": "e0a1c80a",
   "metadata": {},
   "source": [
    "# 15. Write a Pandas program to create the mean and standard deviation of the data of a given Series."
   ]
  },
  {
   "cell_type": "markdown",
   "id": "69484e77",
   "metadata": {},
   "source": [
    "    Sample Output:\n",
    "    Original Data Series:\n",
    "    A    1\n",
    "    B    2\n",
    "    C    3\n",
    "    D    4\n",
    "    E    5\n",
    "    dtype: int64\n",
    "    Data Series after changing the order of index:\n",
    "    B    2\n",
    "    A    1\n",
    "    C    3\n",
    "    D    4\n",
    "    E    5\n",
    "    dtype: int64"
   ]
  },
  {
   "cell_type": "code",
   "execution_count": 28,
   "id": "8e416368",
   "metadata": {},
   "outputs": [
    {
     "name": "stdout",
     "output_type": "stream",
     "text": [
      "4.818181818181818 mean\n",
      "2.522624895547565 Standartd Deviation\n"
     ]
    }
   ],
   "source": [
    "series = pd.Series([1,2,3,4,5,6,7,8,9,5,3])\n",
    "print (series.mean(),\"mean\")\n",
    "print (series.std(), \"Standartd Deviation\")"
   ]
  },
  {
   "cell_type": "markdown",
   "id": "c1350fb9",
   "metadata": {},
   "source": [
    "# 16 Write a Pandas program to get the items of a given series not present in another given series."
   ]
  },
  {
   "cell_type": "markdown",
   "id": "af4e8473",
   "metadata": {},
   "source": [
    "    Sample Output:  \n",
    "    Original Series:\n",
    "    sr1:\n",
    "    0    1\n",
    "    1    2\n",
    "    2    3\n",
    "    3    4\n",
    "    4    5\n",
    "    dtype: int64\n",
    "    sr2:\n",
    "    0     2\n",
    "    1     4\n",
    "    2     6\n",
    "    3     8\n",
    "    4    10\n",
    "    dtype: int64\n",
    "\n",
    "    Items of sr1 not present in sr2:\n",
    "    0    1\n",
    "    2    3\n",
    "    4    5\n",
    "    dtype: int64"
   ]
  },
  {
   "cell_type": "code",
   "execution_count": 29,
   "id": "e421fbbe",
   "metadata": {},
   "outputs": [
    {
     "name": "stdout",
     "output_type": "stream",
     "text": [
      "[0     True\n",
      "1    False\n",
      "2     True\n",
      "3    False\n",
      "4     True\n",
      "dtype: bool]\n",
      "0    1\n",
      "2    3\n",
      "4    5\n",
      "dtype: int64\n"
     ]
    }
   ],
   "source": [
    "series1 = pd.Series([1,2,3,4,5])\n",
    "series2 = pd.Series([2,4,6,8,10])\n",
    "#Check true or false with the help with\n",
    "print ([~series1.isin(series2)])\n",
    "result = series1[~series1.isin(series2)]\n",
    "print (result)"
   ]
  },
  {
   "cell_type": "markdown",
   "id": "2660e090",
   "metadata": {},
   "source": [
    "# Q16 Write a Pandas program to get the items which are not common of two given series."
   ]
  },
  {
   "cell_type": "markdown",
   "id": "466a7b63",
   "metadata": {},
   "source": [
    "    Sample Output: \n",
    "    Original Series:\n",
    "    sr1: \n",
    "    0    1 \n",
    "    1    2 \n",
    "    2    3 \n",
    "    3    4 \n",
    "    4    5\n",
    "    dtype: int64\n",
    "    sr2:\n",
    "    0     2\n",
    "    1     4 \n",
    "    2     6 \n",
    "    3     8\n",
    "    4    10 \n",
    "    dtype: int64 \n",
    "\n",
    "    Items of a given series not present in another given series: \n",
    "    0     1 \n",
    "    2     3 \n",
    "    4     5 \n",
    "    5     6 \n",
    "    6     8\n",
    "    7    10 \n",
    "    dtype: int64"
   ]
  },
  {
   "cell_type": "code",
   "execution_count": 30,
   "id": "f93c7943",
   "metadata": {},
   "outputs": [
    {
     "name": "stdout",
     "output_type": "stream",
     "text": [
      "[ 1  2  3  4  5  6  8 10]\n",
      "[2 4]\n",
      "0     1\n",
      "2     3\n",
      "4     5\n",
      "5     6\n",
      "6     8\n",
      "7    10\n",
      "dtype: int64\n"
     ]
    }
   ],
   "source": [
    "series1 = pd.Series([1,2,3,4,5])\n",
    "series2 = pd.Series([2,4,6,8,10])\n",
    "\n",
    "series11 = np.union1d(series1, series2)\n",
    "series12 = np.intersect1d(series1, series2)\n",
    "print (series11)\n",
    "print (series12)\n",
    "\n",
    "#Converting to Numpy array to pandas series we can also write above code as \n",
    "#\"series11 = pd.Series(np.union1d(series1, series2))\" to avoid converting this here.\n",
    "a = pd.Series(series11)\n",
    "b = pd.Series(series12)\n",
    "\n",
    "result = a[~a.isin(b)]\n",
    "print (result)"
   ]
  },
  {
   "cell_type": "markdown",
   "id": "b1c38e2c",
   "metadata": {},
   "source": [
    "# 17. Write a Pandas program to get the items which are not common of two given series."
   ]
  },
  {
   "cell_type": "markdown",
   "id": "7e260734",
   "metadata": {},
   "source": [
    "    Sample Output:\n",
    "    Original Series:\n",
    "    0      3.000938\n",
    "    1     11.370722\n",
    "    2     14.612143\n",
    "\n",
    "    ....\n",
    "\n",
    "    17    14.118931\n",
    "    18     8.247458\n",
    "    19     5.526727\n",
    "    dtype: float64\n",
    "\n",
    "    Minimum, 25th percentile, median, 75th, and maximum of a given series:\n",
    "    [ 3.00093811  8.09463867 10.23353705 12.21537733 14.61214321]"
   ]
  },
  {
   "cell_type": "code",
   "execution_count": 31,
   "id": "0f2a85b0",
   "metadata": {},
   "outputs": [
    {
     "name": "stdout",
     "output_type": "stream",
     "text": [
      "0      3.000938\n",
      "1     11.370722\n",
      "2     14.612143\n",
      "3      8.990256\n",
      "4     13.925283\n",
      "5     12.056875\n",
      "6     10.884719\n",
      "7      5.719827\n",
      "8      9.242017\n",
      "9     11.020006\n",
      "10     8.167892\n",
      "11    11.740654\n",
      "12     7.665620\n",
      "13    13.267388\n",
      "14    12.690883\n",
      "15     9.582355\n",
      "16     7.874878\n",
      "17    14.118931\n",
      "18     8.247458\n",
      "19     5.526727\n",
      "dtype: float64\n",
      "[ 3.00093811  8.09463867 10.23353705 12.21537733 14.61214321]\n"
     ]
    }
   ],
   "source": [
    "# Create a random number generator with a fixed seed\n",
    "num = np.random.RandomState(100)\n",
    "\n",
    "# Generate a Series of 20 numbers sampled from a normal distribution\n",
    "num_series = pd.Series(num.normal(10,4,20))\n",
    "print (num_series)\n",
    "result = np.percentile(num_series,q =[0,25,50,75,100])\n",
    "print (result)"
   ]
  },
  {
   "cell_type": "markdown",
   "id": "8ae82b27",
   "metadata": {},
   "source": [
    "# 18 Write a Pandas program to calculate the frequency counts of each unique value of a given series."
   ]
  },
  {
   "cell_type": "markdown",
   "id": "c82add35",
   "metadata": {},
   "source": [
    "    Sample Output:\n",
    "    Original Series:\n",
    "    0     1\n",
    "    1     7\n",
    "    2     1\n",
    "    3     6\n",
    "\n",
    "    ...\n",
    "\n",
    "\n",
    "    37    0\n",
    "    38    4\n",
    "    39    8\n",
    "    dtype: object\n",
    "    Frequency of each unique value of the said series.\n",
    "    0    9\n",
    "    2    7\n",
    "    9    6\n",
    "    ....\n",
    "    3    2\n",
    "    4    1\n",
    "    5    1\n",
    "    dtype: int64"
   ]
  },
  {
   "cell_type": "code",
   "execution_count": 32,
   "id": "095cff81",
   "metadata": {},
   "outputs": [
    {
     "name": "stdout",
     "output_type": "stream",
     "text": [
      "0     1\n",
      "1     2\n",
      "2     0\n",
      "3     0\n",
      "4     0\n",
      "5     5\n",
      "6     8\n",
      "7     1\n",
      "8     0\n",
      "9     1\n",
      "10    3\n",
      "11    1\n",
      "12    5\n",
      "13    0\n",
      "14    5\n",
      "15    8\n",
      "16    3\n",
      "17    3\n",
      "18    2\n",
      "19    9\n",
      "20    1\n",
      "21    3\n",
      "22    2\n",
      "23    2\n",
      "24    0\n",
      "25    2\n",
      "26    4\n",
      "27    8\n",
      "28    9\n",
      "29    8\n",
      "30    4\n",
      "31    1\n",
      "32    0\n",
      "33    4\n",
      "34    3\n",
      "35    4\n",
      "36    1\n",
      "37    1\n",
      "38    4\n",
      "39    7\n",
      "dtype: object\n"
     ]
    },
    {
     "data": {
      "text/plain": [
       "1    8\n",
       "0    7\n",
       "2    5\n",
       "3    5\n",
       "4    5\n",
       "8    4\n",
       "5    3\n",
       "9    2\n",
       "7    1\n",
       "Name: count, dtype: int64"
      ]
     },
     "execution_count": 32,
     "metadata": {},
     "output_type": "execute_result"
    }
   ],
   "source": [
    "num_series = pd.Series(np.take(list('0123456789'), np.random.randint(10, size=40)))\n",
    "print (num_series)\n",
    "result = num_series.value_counts()\n",
    "result"
   ]
  },
  {
   "cell_type": "markdown",
   "id": "e0e35d27",
   "metadata": {},
   "source": [
    "# Q Write a Pandas program convert the first and last character of each word to upper case in each word of a given series."
   ]
  },
  {
   "cell_type": "markdown",
   "id": "58a77b9c",
   "metadata": {},
   "source": [
    "    Sample Output:\n",
    "    Original Series:\n",
    "    0       php\n",
    "    1    python\n",
    "    2      java\n",
    "    3        c#\n",
    "    dtype: object\n",
    "\n",
    "    First and last character of each word to upper case:\n",
    "    0       PhP\n",
    "    1    PythoN\n",
    "    2      JavA\n",
    "    3        C#\n",
    "    dtype: object"
   ]
  },
  {
   "cell_type": "code",
   "execution_count": 33,
   "id": "d32a4176",
   "metadata": {},
   "outputs": [
    {
     "data": {
      "text/plain": [
       "0       PhP\n",
       "1    PythoN\n",
       "2      JavA\n",
       "3        C#\n",
       "dtype: object"
      ]
     },
     "execution_count": 33,
     "metadata": {},
     "output_type": "execute_result"
    }
   ],
   "source": [
    "series = pd.Series(['php', 'python', 'java', 'c#'])\n",
    "result = series.map(lambda x:x[0].upper()+x[1:-1]+x[-1].upper())\n",
    "result"
   ]
  },
  {
   "cell_type": "markdown",
   "id": "1a99c865",
   "metadata": {},
   "source": [
    "# Q: Write a Pandas program to calculate the number of characters in each word in a given series"
   ]
  },
  {
   "cell_type": "markdown",
   "id": "74d19c42",
   "metadata": {},
   "source": [
    "    Sample Output: \n",
    "    Original Series:\n",
    "    0       Php\n",
    "    1    Python\n",
    "    2      Java\n",
    "    3        C#\n",
    "    dtype: object\n",
    "\n",
    "    Number of characters in each word in the said series:\n",
    "    0    3\n",
    "    1    6\n",
    "    2    4\n",
    "    3    2\n",
    "    dtype: int64"
   ]
  },
  {
   "cell_type": "code",
   "execution_count": 34,
   "id": "03bdd154",
   "metadata": {},
   "outputs": [
    {
     "data": {
      "text/plain": [
       "0    3\n",
       "1    6\n",
       "2    4\n",
       "3    2\n",
       "dtype: int64"
      ]
     },
     "execution_count": 34,
     "metadata": {},
     "output_type": "execute_result"
    }
   ],
   "source": [
    "series = pd.Series(['php', 'python', 'java', 'c#'])\n",
    "result = series.map(lambda x: len(x))\n",
    "result"
   ]
  },
  {
   "cell_type": "code",
   "execution_count": null,
   "id": "c1ce8a41",
   "metadata": {},
   "outputs": [],
   "source": []
  }
 ],
 "metadata": {
  "kernelspec": {
   "display_name": "Python 3 (ipykernel)",
   "language": "python",
   "name": "python3"
  },
  "language_info": {
   "codemirror_mode": {
    "name": "ipython",
    "version": 3
   },
   "file_extension": ".py",
   "mimetype": "text/x-python",
   "name": "python",
   "nbconvert_exporter": "python",
   "pygments_lexer": "ipython3",
   "version": "3.11.2"
  }
 },
 "nbformat": 4,
 "nbformat_minor": 5
}
